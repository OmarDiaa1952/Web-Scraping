{
 "cells": [
  {
   "cell_type": "code",
   "execution_count": 28,
   "id": "be1355f1-9c14-4347-8f0d-fa70d2f0126d",
   "metadata": {},
   "outputs": [],
   "source": [
    "import requests\n",
    "import pandas as pd\n",
    "import json,os,collections\n",
    "from selenium import webdriver\n",
    "from selenium.webdriver.chrome.options import Options\n",
    "from selenium.webdriver.common.by import By\n",
    "from selenium.webdriver.support.ui import Select\n",
    "from selenium.webdriver.chrome.service import Service\n",
    "from selenium.webdriver.support.ui import WebDriverWait\n",
    "from selenium.webdriver.support import expected_conditions as EC\n",
    "import pandas as pd\n",
    "import time\n",
    "from tqdm import tqdm"
   ]
  },
  {
   "cell_type": "code",
   "execution_count": 29,
   "id": "0e59c12b-1183-4b38-b4d5-bfc3b56ab046",
   "metadata": {},
   "outputs": [],
   "source": [
    "driver = webdriver.Chrome()"
   ]
  },
  {
   "cell_type": "code",
   "execution_count": 35,
   "id": "3023aed6-6aa5-4556-a7a2-eb377a44cea8",
   "metadata": {},
   "outputs": [],
   "source": [
    "def getData(website):\n",
    "    #website = \"https://whop.com/marketplace/boa/\"\n",
    "    driver.get(website)\n",
    "    wait = WebDriverWait(driver, 10)  # Wait up to 5 seconds\n",
    "    title_element = wait.until(EC.presence_of_element_located((By.XPATH, \"//h1\")))\n",
    "    title = title_element.text\n",
    "    num_reviews = 0\n",
    "    try:\n",
    "        ratings=driver.find_element(By.XPATH,\"//div[contains(@class, 'subtitle3 text-whop-black')]\").text\n",
    "        reviews=driver.find_element(By.XPATH,\"//div[contains(@class,'text-whop-dark-gray text3 cursor-pointer underline')]\").text\n",
    "        num_reviews = int(reviews.split('(')[-1].split(' ')[0])\n",
    "        el = driver.find_element('xpath','//div[@class=\"mb-6 space-y-2\"]')\n",
    "        description = [x.text.strip() for x in el.find_elements('xpath','.//*')]\n",
    "        description = [x for x in description if x not in ['','Show more']]\n",
    "        description = description[0].split('\\n')\n",
    "    except:\n",
    "        ratings=\"\" \n",
    "        reviews=\"\" \n",
    "        description=\"\"\n",
    "    Boxes=driver.find_elements(By.XPATH,\"//div[contains(@class, 'border-t-whop-stroke')]\")\n",
    "    #Boxes[0].find_elements('xpath','.//div[contains(@class,\"font-display\")]')[0].text\n",
    "    els = Boxes[0].find_elements('xpath','.//div[contains(@class,\"flex gap-6\")]//div[@class=\"text-header4\"]')\n",
    "    titles= [x.text for x in els]\n",
    "    els = Boxes[0].find_elements('xpath','.//div[contains(@class,\"flex gap-6\")]//div[@class=\"text-paragraph2 text-whop-dark-gray\"]')\n",
    "    parags = [x.text for x in els]\n",
    "    feature_box_data = {k:v for k,v in zip(titles,parags)}\n",
    "    els = Boxes[-2].find_elements('xpath','.//p[@class=\"text-paragraph2 whitespace-nowrap\"]')\n",
    "    about_seller = [x.text for x in els]\n",
    "    desc = Boxes[-2].find_elements('xpath','.//div[@class=\"text-paragraph2 text-whop-black whitespace-pre-wrap\"]')[0].text\n",
    "    about_seller.append(desc)\n",
    "    social_data = []\n",
    "    socials = Boxes[-2].find_elements('xpath','.//div[@class=\"border-whop-stroke flex justify-between border-b-[0.5px] py-4\"]')\n",
    "    for social in socials:\n",
    "        website = social.find_element('xpath','.//div[@class=\"text-text3\"]').text\n",
    "        website_link = social.find_element('xpath','.//a[@class=\"text-whop-field-highlight flex cursor-pointer items-center gap-0.5\"]').get_attribute('href')\n",
    "        social_data.append([website,website_link])\n",
    "    return [title,ratings,num_reviews,description,feature_box_data,about_seller,social_data]"
   ]
  },
  {
   "cell_type": "code",
   "execution_count": 31,
   "id": "bf53873a-cf49-44c5-aa29-e30ab5efe65e",
   "metadata": {},
   "outputs": [
    {
     "name": "stderr",
     "output_type": "stream",
     "text": [
      "100%|██████████| 203/203 [21:23<00:00,  6.33s/it]\n"
     ]
    }
   ],
   "source": [
    "website_list = []\n",
    "for i in tqdm(range(1,204)):\n",
    "    url = f\"https://whop.com/search/?query=&page={i}\"\n",
    "    driver.get(url)\n",
    "    time.sleep(5)\n",
    "    els = driver.find_elements('xpath','//a[@target=\"_blank\"]')\n",
    "    websites = [x.get_attribute('href') for x in els]\n",
    "    websites = [x for x in websites if x.find('/marketplace/')!=-1]\n",
    "    website_list+=websites"
   ]
  },
  {
   "cell_type": "code",
   "execution_count": 37,
   "id": "be3be219-7a51-4bea-ae26-702c03b5f99a",
   "metadata": {},
   "outputs": [
    {
     "name": "stderr",
     "output_type": "stream",
     "text": [
      "  5%|▍         | 94/2019 [04:16<1:27:23,  2.72s/it]\n"
     ]
    },
    {
     "ename": "TimeoutException",
     "evalue": "Message: \nStacktrace:\n\tGetHandleVerifier [0x00007FF7A5FBAD02+56930]\n\t(No symbol) [0x00007FF7A5F2F602]\n\t(No symbol) [0x00007FF7A5DE42E5]\n\t(No symbol) [0x00007FF7A5E298ED]\n\t(No symbol) [0x00007FF7A5E29A2C]\n\t(No symbol) [0x00007FF7A5E6A967]\n\t(No symbol) [0x00007FF7A5E4BCDF]\n\t(No symbol) [0x00007FF7A5E681E2]\n\t(No symbol) [0x00007FF7A5E4BA43]\n\t(No symbol) [0x00007FF7A5E1D438]\n\t(No symbol) [0x00007FF7A5E1E4D1]\n\tGetHandleVerifier [0x00007FF7A6336F8D+3711213]\n\tGetHandleVerifier [0x00007FF7A63904CD+4077101]\n\tGetHandleVerifier [0x00007FF7A638865F+4044735]\n\tGetHandleVerifier [0x00007FF7A6059736+706710]\n\t(No symbol) [0x00007FF7A5F3B8DF]\n\t(No symbol) [0x00007FF7A5F36AC4]\n\t(No symbol) [0x00007FF7A5F36C1C]\n\t(No symbol) [0x00007FF7A5F268D4]\n\tBaseThreadInitThunk [0x00007FFC2063257D+29]\n\tRtlUserThreadStart [0x00007FFC2126AA58+40]\n",
     "output_type": "error",
     "traceback": [
      "\u001b[1;31m---------------------------------------------------------------------------\u001b[0m",
      "\u001b[1;31mTimeoutException\u001b[0m                          Traceback (most recent call last)",
      "Cell \u001b[1;32mIn[37], line 4\u001b[0m\n\u001b[0;32m      2\u001b[0m full_webdata \u001b[38;5;241m=\u001b[39m []\n\u001b[0;32m      3\u001b[0m \u001b[38;5;28;01mfor\u001b[39;00m website \u001b[38;5;129;01min\u001b[39;00m tqdm(website_list):\n\u001b[1;32m----> 4\u001b[0m     web_data  \u001b[38;5;241m=\u001b[39m \u001b[43mgetData\u001b[49m\u001b[43m(\u001b[49m\u001b[43mwebsite\u001b[49m\u001b[43m)\u001b[49m\n\u001b[0;32m      5\u001b[0m     full_webdata\u001b[38;5;241m.\u001b[39mappend(web_data)\n\u001b[0;32m      6\u001b[0m df \u001b[38;5;241m=\u001b[39m pd\u001b[38;5;241m.\u001b[39mDataFrame(full_webdata)\n",
      "Cell \u001b[1;32mIn[35], line 5\u001b[0m, in \u001b[0;36mgetData\u001b[1;34m(website)\u001b[0m\n\u001b[0;32m      3\u001b[0m driver\u001b[38;5;241m.\u001b[39mget(website)\n\u001b[0;32m      4\u001b[0m wait \u001b[38;5;241m=\u001b[39m WebDriverWait(driver, \u001b[38;5;241m50\u001b[39m)  \u001b[38;5;66;03m# Wait up to 50 seconds\u001b[39;00m\n\u001b[1;32m----> 5\u001b[0m title_element \u001b[38;5;241m=\u001b[39m \u001b[43mwait\u001b[49m\u001b[38;5;241;43m.\u001b[39;49m\u001b[43muntil\u001b[49m\u001b[43m(\u001b[49m\u001b[43mEC\u001b[49m\u001b[38;5;241;43m.\u001b[39;49m\u001b[43mpresence_of_element_located\u001b[49m\u001b[43m(\u001b[49m\u001b[43m(\u001b[49m\u001b[43mBy\u001b[49m\u001b[38;5;241;43m.\u001b[39;49m\u001b[43mXPATH\u001b[49m\u001b[43m,\u001b[49m\u001b[43m \u001b[49m\u001b[38;5;124;43m\"\u001b[39;49m\u001b[38;5;124;43m//h1\u001b[39;49m\u001b[38;5;124;43m\"\u001b[39;49m\u001b[43m)\u001b[49m\u001b[43m)\u001b[49m\u001b[43m)\u001b[49m\n\u001b[0;32m      6\u001b[0m title \u001b[38;5;241m=\u001b[39m title_element\u001b[38;5;241m.\u001b[39mtext\n\u001b[0;32m      7\u001b[0m num_reviews \u001b[38;5;241m=\u001b[39m \u001b[38;5;241m0\u001b[39m\n",
      "File \u001b[1;32mc:\\Users\\omarm\\AppData\\Local\\Programs\\Python\\Python311\\Lib\\site-packages\\selenium\\webdriver\\support\\wait.py:95\u001b[0m, in \u001b[0;36mWebDriverWait.until\u001b[1;34m(self, method, message)\u001b[0m\n\u001b[0;32m     93\u001b[0m     \u001b[38;5;28;01mif\u001b[39;00m time\u001b[38;5;241m.\u001b[39mmonotonic() \u001b[38;5;241m>\u001b[39m end_time:\n\u001b[0;32m     94\u001b[0m         \u001b[38;5;28;01mbreak\u001b[39;00m\n\u001b[1;32m---> 95\u001b[0m \u001b[38;5;28;01mraise\u001b[39;00m TimeoutException(message, screen, stacktrace)\n",
      "\u001b[1;31mTimeoutException\u001b[0m: Message: \nStacktrace:\n\tGetHandleVerifier [0x00007FF7A5FBAD02+56930]\n\t(No symbol) [0x00007FF7A5F2F602]\n\t(No symbol) [0x00007FF7A5DE42E5]\n\t(No symbol) [0x00007FF7A5E298ED]\n\t(No symbol) [0x00007FF7A5E29A2C]\n\t(No symbol) [0x00007FF7A5E6A967]\n\t(No symbol) [0x00007FF7A5E4BCDF]\n\t(No symbol) [0x00007FF7A5E681E2]\n\t(No symbol) [0x00007FF7A5E4BA43]\n\t(No symbol) [0x00007FF7A5E1D438]\n\t(No symbol) [0x00007FF7A5E1E4D1]\n\tGetHandleVerifier [0x00007FF7A6336F8D+3711213]\n\tGetHandleVerifier [0x00007FF7A63904CD+4077101]\n\tGetHandleVerifier [0x00007FF7A638865F+4044735]\n\tGetHandleVerifier [0x00007FF7A6059736+706710]\n\t(No symbol) [0x00007FF7A5F3B8DF]\n\t(No symbol) [0x00007FF7A5F36AC4]\n\t(No symbol) [0x00007FF7A5F36C1C]\n\t(No symbol) [0x00007FF7A5F268D4]\n\tBaseThreadInitThunk [0x00007FFC2063257D+29]\n\tRtlUserThreadStart [0x00007FFC2126AA58+40]\n"
     ]
    }
   ],
   "source": [
    "website_list=list(set(website_list))\n",
    "full_webdata = []\n",
    "for website in tqdm(website_list):\n",
    "    try:\n",
    "        web_data  = getData(website)\n",
    "    except:\n",
    "        continue\n",
    "    full_webdata.append(web_data)\n",
    "df = pd.DataFrame(full_webdata)\n",
    "df.to_csv('Data.csv',index=False)"
   ]
  },
  {
   "cell_type": "code",
   "execution_count": null,
   "id": "ce2d4cf1-da9d-4fab-b9e1-01d2f9bed870",
   "metadata": {},
   "outputs": [
    {
     "data": {
      "text/html": [
       "<div>\n",
       "<style scoped>\n",
       "    .dataframe tbody tr th:only-of-type {\n",
       "        vertical-align: middle;\n",
       "    }\n",
       "\n",
       "    .dataframe tbody tr th {\n",
       "        vertical-align: top;\n",
       "    }\n",
       "\n",
       "    .dataframe thead th {\n",
       "        text-align: right;\n",
       "    }\n",
       "</style>\n",
       "<table border=\"1\" class=\"dataframe\">\n",
       "  <thead>\n",
       "    <tr style=\"text-align: right;\">\n",
       "      <th></th>\n",
       "      <th>0</th>\n",
       "      <th>1</th>\n",
       "      <th>2</th>\n",
       "      <th>3</th>\n",
       "      <th>4</th>\n",
       "      <th>5</th>\n",
       "      <th>6</th>\n",
       "    </tr>\n",
       "  </thead>\n",
       "  <tbody>\n",
       "    <tr>\n",
       "      <th>0</th>\n",
       "      <td>Wealth Group</td>\n",
       "      <td>4.93</td>\n",
       "      <td>802</td>\n",
       "      <td>[Wealth Group is currently the top crypto curr...</td>\n",
       "      <td>{'Livestreams': 'Gain access to our exclusive ...</td>\n",
       "      <td>[802 reviews, Whop Verified, Top Charts, Wealt...</td>\n",
       "      <td>[[Twitter, https://twitter.com/WealthGroup_], ...</td>\n",
       "    </tr>\n",
       "  </tbody>\n",
       "</table>\n",
       "</div>"
      ],
      "text/plain": [
       "              0     1    2                                                  3  \\\n",
       "0  Wealth Group  4.93  802  [Wealth Group is currently the top crypto curr...   \n",
       "\n",
       "                                                   4  \\\n",
       "0  {'Livestreams': 'Gain access to our exclusive ...   \n",
       "\n",
       "                                                   5  \\\n",
       "0  [802 reviews, Whop Verified, Top Charts, Wealt...   \n",
       "\n",
       "                                                   6  \n",
       "0  [[Twitter, https://twitter.com/WealthGroup_], ...  "
      ]
     },
     "execution_count": 107,
     "metadata": {},
     "output_type": "execute_result"
    }
   ],
   "source": []
  },
  {
   "cell_type": "code",
   "execution_count": null,
   "id": "98e03619-504d-4817-a6bf-c1f0ec610cae",
   "metadata": {},
   "outputs": [],
   "source": []
  }
 ],
 "metadata": {
  "kernelspec": {
   "display_name": "Python 3 (ipykernel)",
   "language": "python",
   "name": "python3"
  },
  "language_info": {
   "codemirror_mode": {
    "name": "ipython",
    "version": 3
   },
   "file_extension": ".py",
   "mimetype": "text/x-python",
   "name": "python",
   "nbconvert_exporter": "python",
   "pygments_lexer": "ipython3",
   "version": "3.11.5"
  }
 },
 "nbformat": 4,
 "nbformat_minor": 5
}
